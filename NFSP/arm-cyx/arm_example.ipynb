{
 "cells": [
  {
   "cell_type": "code",
   "execution_count": 1,
   "metadata": {
    "colab": {},
    "colab_type": "code",
    "id": "DJl1WVWXIIcu"
   },
   "outputs": [
    {
     "name": "stdout",
     "output_type": "stream",
     "text": [
      "^C\n",
      "^C\n"
     ]
    },
    {
     "name": "stderr",
     "output_type": "stream",
     "text": [
      "命令语法不正确。\n"
     ]
    }
   ],
   "source": [
    "!pip install git+https://github.com/F-Schlatt/arm\n",
    "!pip install -q tf-nightly-2.0-preview\n",
    "!mkdir /content/runs"
   ]
  },
  {
   "cell_type": "code",
   "execution_count": 2,
   "metadata": {
    "colab": {},
    "colab_type": "code",
    "id": "VHUP-h-wISWq"
   },
   "outputs": [
    {
     "name": "stderr",
     "output_type": "stream",
     "text": [
      "C:\\ProgramData\\Anaconda3\\lib\\site-packages\\h5py\\__init__.py:34: FutureWarning: Conversion of the second argument of issubdtype from `float` to `np.floating` is deprecated. In future, it will be treated as `np.float64 == np.dtype(float).type`.\n",
      "  from ._conv import register_converters as _register_converters\n"
     ]
    }
   ],
   "source": [
    "import time\n",
    "\n",
    "import gym\n",
    "import numpy as np\n",
    "import torch\n",
    "import torchvision\n",
    "import tensorflow as tf\n",
    "\n",
    "from arm import Arm, Policy, ReplayBuffer"
   ]
  },
  {
   "cell_type": "code",
   "execution_count": 3,
   "metadata": {
    "colab": {},
    "colab_type": "code",
    "collapsed": true,
    "id": "xxMQ8muRI0nv"
   },
   "outputs": [],
   "source": [
    "def run_env(env: gym.Env, policy: Policy):\n",
    "    replay_buffer = ReplayBuffer()\n",
    "    obs = env.reset()\n",
    "    done = False\n",
    "    # convert to grayscale, scale to 84x84 and scale values between 0 and 1\n",
    "    pre_torchvision = torchvision.transforms.Compose([torchvision.transforms.ToPILImage(),\n",
    "                                                      torchvision.transforms.Grayscale(),\n",
    "                                                      torchvision.transforms.Resize(\n",
    "                                                          (84, 84)),\n",
    "                                                      torchvision.transforms.ToTensor()])\n",
    "    # remove channels and convert to numpy\n",
    "    def preprocess(img): return pre_torchvision(img)[0].numpy()\n",
    "    obs = preprocess(obs)\n",
    "    obs_arr = [obs] * FRAME_BUFFER\n",
    "    while not done:\n",
    "        torch_obs = torch.tensor(obs_arr).unsqueeze(0).to(policy.device)\n",
    "        action = policy(torch_obs)\n",
    "        total_reward = 0\n",
    "        # only record every 4th frame\n",
    "        for _ in range(4):\n",
    "            next_obs, reward, done, _ = env.step(action)\n",
    "            total_reward += reward\n",
    "            if done:\n",
    "                break\n",
    "        next_obs = preprocess(next_obs)\n",
    "        replay_buffer.append(obs, next_obs, action, total_reward, done)\n",
    "        obs = next_obs\n",
    "        obs_arr = obs_arr[1:] + [obs]\n",
    "    return replay_buffer\n",
    "\n",
    "\n",
    "def collect_rep_buffer(env: gym.Env, policy: Policy):\n",
    "    replay_buffer = ReplayBuffer()\n",
    "\n",
    "    start = time.time()\n",
    "    # accumulate replay buffer\n",
    "    while len(replay_buffer) < REP_BUFFER_SIZE:\n",
    "        replay_buffer += run_env(env, policy)\n",
    "        print('collected {} steps, time elapsed: {}'.format(\n",
    "            len(replay_buffer), time.time()-start))\n",
    "\n",
    "    return replay_buffer\n",
    "\n",
    "\n",
    "def evaluate(arm: Arm, replay_buffer: ReplayBuffer, writer=None):\n",
    "    done_idcs = np.nonzero(replay_buffer.done)[0] + 1\n",
    "    traj_rewards = np.split(replay_buffer.rewards, done_idcs)[:-1]\n",
    "    traj_rewards = np.array([np.sum(trajectory)\n",
    "                             for trajectory in traj_rewards])\n",
    "    mean_epi_steps = len(replay_buffer) / done_idcs.shape[0]\n",
    "    print('mean episode steps: {}, avg reward: {}, min reward: {}, max reward: {}'.format(\n",
    "        mean_epi_steps, traj_rewards.mean(), traj_rewards.min(), traj_rewards.max()))\n",
    "    if writer is not None:\n",
    "        with writer.as_default():\n",
    "            tf.summary.scalar('reward', traj_rewards.mean(), arm.epochs)\n",
    "\n",
    "\n",
    "class Network(torch.nn.Module):\n",
    "\n",
    "    def __init__(self, frame_buffer, action_dim, lr, device=torch.device('cpu')):\n",
    "        super(Network, self).__init__()\n",
    "\n",
    "        self.action_dim = action_dim\n",
    "        self.device = device\n",
    "\n",
    "        self.conv1 = torch.nn.Conv2d(frame_buffer, 16, 3, padding=1)\n",
    "        self.conv2 = torch.nn.Conv2d(16, 16, 8, 4)\n",
    "        self.conv3 = torch.nn.Conv2d(16, 32, 4, 2)\n",
    "        self.fc1 = torch.nn.Linear(32*9*9, 256)\n",
    "        self.fc2 = torch.nn.Linear(256, action_dim + 1)\n",
    "\n",
    "        self.to(device)\n",
    "\n",
    "        self.criterion = torch.nn.SmoothL1Loss()\n",
    "        self.optimizer = torch.optim.Adam(\n",
    "            self.parameters(), lr=lr)\n",
    "\n",
    "    def forward(self, obs):\n",
    "        out = torch.nn.functional.relu(self.conv1(obs))\n",
    "        out = torch.nn.functional.relu(self.conv2(out))\n",
    "        out = torch.nn.functional.relu(self.conv3(out))\n",
    "        out = out.view(out.size(0), -1)\n",
    "        out = torch.nn.functional.relu(self.fc1(out))\n",
    "        out = self.fc2(out)\n",
    "        return out\n",
    "   \n",
    "\n",
    "def train_arm():\n",
    "    env = gym.make('PongNoFrameskip-v4')\n",
    "\n",
    "    writer = tf.summary.create_file_writer('/content/runs/')\n",
    "\n",
    "    device = torch.device(\n",
    "        'cuda') if torch.cuda.is_available() else torch.device('cpu')\n",
    "\n",
    "    network = Network(FRAME_BUFFER, env.action_space.n,\n",
    "                      LEARN_RATE, device=device)\n",
    "\n",
    "    arm = Arm(network, ARM_ITERS, MINI_BATCH_SIZE, TAU)\n",
    "    policy = Policy(network)\n",
    "\n",
    "    while arm.epochs < EPOCHS:\n",
    "\n",
    "        replay_buffer = collect_rep_buffer(env, policy)\n",
    "\n",
    "        evaluate(arm, replay_buffer, writer=writer)\n",
    "\n",
    "        replay_buffer = replay_buffer.vectorize(frame_buffer=FRAME_BUFFER,\n",
    "                                                curriculum=CURRICULUM,\n",
    "                                                n_step_size=N_STEP_SIZE,\n",
    "                                                gamma=GAMMA)\n",
    "        arm.train_batch(replay_buffer, writer=writer)\n",
    "\n",
    "    return arm.network"
   ]
  },
  {
   "cell_type": "code",
   "execution_count": 4,
   "metadata": {
    "colab": {},
    "colab_type": "code",
    "id": "cI9zZkTZJoxD"
   },
   "outputs": [
    {
     "name": "stdout",
     "output_type": "stream",
     "text": [
      "The tensorboard module is not an IPython extension.\n"
     ]
    },
    {
     "name": "stderr",
     "output_type": "stream",
     "text": [
      "ERROR:root:Line magic function `%tensorboard` not found.\n"
     ]
    }
   ],
   "source": [
    "%load_ext tensorboard\n",
    "%tensorboard --logdir '/content/runs/'"
   ]
  },
  {
   "cell_type": "code",
   "execution_count": 5,
   "metadata": {
    "colab": {},
    "colab_type": "code",
    "id": "628WSzP8JPHt"
   },
   "outputs": [
    {
     "name": "stderr",
     "output_type": "stream",
     "text": [
      "C:\\ProgramData\\Anaconda3\\lib\\site-packages\\gym\\envs\\registration.py:14: PkgResourcesDeprecationWarning: Parameters to load are deprecated.  Call .resolve and .require separately.\n",
      "  result = entry_point.load(False)\n"
     ]
    },
    {
     "ename": "AttributeError",
     "evalue": "module 'tensorflow.python.summary.summary' has no attribute 'create_file_writer'",
     "output_type": "error",
     "traceback": [
      "\u001b[1;31m---------------------------------------------------------------------------\u001b[0m",
      "\u001b[1;31mAttributeError\u001b[0m                            Traceback (most recent call last)",
      "\u001b[1;32m<ipython-input-5-02a2432280d4>\u001b[0m in \u001b[0;36m<module>\u001b[1;34m()\u001b[0m\n\u001b[0;32m     13\u001b[0m \u001b[0mTAU\u001b[0m \u001b[1;33m=\u001b[0m \u001b[1;36m0.01\u001b[0m\u001b[1;33m\u001b[0m\u001b[0m\n\u001b[0;32m     14\u001b[0m \u001b[1;33m\u001b[0m\u001b[0m\n\u001b[1;32m---> 15\u001b[1;33m \u001b[0mtrain_arm\u001b[0m\u001b[1;33m(\u001b[0m\u001b[1;33m)\u001b[0m\u001b[1;33m\u001b[0m\u001b[0m\n\u001b[0m",
      "\u001b[1;32m<ipython-input-3-595d82b903e2>\u001b[0m in \u001b[0;36mtrain_arm\u001b[1;34m()\u001b[0m\n\u001b[0;32m     89\u001b[0m     \u001b[0menv\u001b[0m \u001b[1;33m=\u001b[0m \u001b[0mgym\u001b[0m\u001b[1;33m.\u001b[0m\u001b[0mmake\u001b[0m\u001b[1;33m(\u001b[0m\u001b[1;34m'PongNoFrameskip-v4'\u001b[0m\u001b[1;33m)\u001b[0m\u001b[1;33m\u001b[0m\u001b[0m\n\u001b[0;32m     90\u001b[0m \u001b[1;33m\u001b[0m\u001b[0m\n\u001b[1;32m---> 91\u001b[1;33m     \u001b[0mwriter\u001b[0m \u001b[1;33m=\u001b[0m \u001b[0mtf\u001b[0m\u001b[1;33m.\u001b[0m\u001b[0msummary\u001b[0m\u001b[1;33m.\u001b[0m\u001b[0mcreate_file_writer\u001b[0m\u001b[1;33m(\u001b[0m\u001b[1;34m'/content/runs/'\u001b[0m\u001b[1;33m)\u001b[0m\u001b[1;33m\u001b[0m\u001b[0m\n\u001b[0m\u001b[0;32m     92\u001b[0m \u001b[1;33m\u001b[0m\u001b[0m\n\u001b[0;32m     93\u001b[0m     device = torch.device(\n",
      "\u001b[1;31mAttributeError\u001b[0m: module 'tensorflow.python.summary.summary' has no attribute 'create_file_writer'"
     ]
    }
   ],
   "source": [
    "ARM_ITERS = 3000\n",
    "CURRICULUM = ()\n",
    "CURRICULUM_MODE = 'reward'\n",
    "EPOCHS = 100\n",
    "FRAME_BUFFER = 4\n",
    "FUTURE = False\n",
    "GAMMA = 0.99\n",
    "GPU = True\n",
    "LEARN_RATE = 1e-4\n",
    "MINI_BATCH_SIZE = 32\n",
    "N_STEP_SIZE = 1\n",
    "REP_BUFFER_SIZE = 12500\n",
    "TAU = 0.01\n",
    "\n",
    "train_arm()"
   ]
  }
 ],
 "metadata": {
  "accelerator": "GPU",
  "colab": {
   "collapsed_sections": [],
   "name": "arm_example.ipynb",
   "private_outputs": true,
   "provenance": []
  },
  "kernelspec": {
   "display_name": "Python 3",
   "language": "python",
   "name": "python3"
  },
  "language_info": {
   "codemirror_mode": {
    "name": "ipython",
    "version": 3
   },
   "file_extension": ".py",
   "mimetype": "text/x-python",
   "name": "python",
   "nbconvert_exporter": "python",
   "pygments_lexer": "ipython3",
   "version": "3.6.3"
  }
 },
 "nbformat": 4,
 "nbformat_minor": 1
}
